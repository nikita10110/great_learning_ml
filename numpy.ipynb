{
  "nbformat": 4,
  "nbformat_minor": 0,
  "metadata": {
    "kernelspec": {
      "display_name": "Python 3",
      "language": "python",
      "name": "python3"
    },
    "language_info": {
      "codemirror_mode": {
        "name": "ipython",
        "version": 3
      },
      "file_extension": ".py",
      "mimetype": "text/x-python",
      "name": "python",
      "nbconvert_exporter": "python",
      "pygments_lexer": "ipython3",
      "version": "3.7.4"
    },
    "colab": {
      "name": "numpy_.ipynb",
      "provenance": []
    }
  },
  "cells": [
    {
      "cell_type": "code",
      "metadata": {
        "id": "TxggstJgOzCT"
      },
      "source": [
        "#Creating Single dimensional array"
      ],
      "execution_count": null,
      "outputs": []
    },
    {
      "cell_type": "code",
      "metadata": {
        "id": "4hx7xjr6OzCU",
        "outputId": "d9c50a76-213e-468d-bfa1-796d5471849b"
      },
      "source": [
        "import numpy as np\n",
        "\n",
        "n1=np.array([10,20,30,40])\n",
        "n1"
      ],
      "execution_count": null,
      "outputs": [
        {
          "output_type": "execute_result",
          "data": {
            "text/plain": [
              "array([10, 20, 30, 40])"
            ]
          },
          "metadata": {
            "tags": []
          },
          "execution_count": 3
        }
      ]
    },
    {
      "cell_type": "code",
      "metadata": {
        "id": "PHk6UMz6OzCV"
      },
      "source": [
        "#Creating Multi-Dimensional Array"
      ],
      "execution_count": null,
      "outputs": []
    },
    {
      "cell_type": "code",
      "metadata": {
        "id": "YhPs0H5mOzCW",
        "outputId": "7a6c360c-f063-4eea-9b5e-3b8a2f44ce8d"
      },
      "source": [
        "import numpy as np\n",
        "\n",
        "n2=np.array([[10,20,30,40],[40,30,20,10]])\n",
        "n2"
      ],
      "execution_count": null,
      "outputs": [
        {
          "output_type": "execute_result",
          "data": {
            "text/plain": [
              "array([[10, 20, 30, 40],\n",
              "       [40, 30, 20, 10]])"
            ]
          },
          "metadata": {
            "tags": []
          },
          "execution_count": 6
        }
      ]
    },
    {
      "cell_type": "code",
      "metadata": {
        "id": "upkjP9f_OzCW",
        "outputId": "f3b77255-61d8-4044-bf57-68ea04b1ee33"
      },
      "source": [
        "type(n2)"
      ],
      "execution_count": null,
      "outputs": [
        {
          "output_type": "execute_result",
          "data": {
            "text/plain": [
              "numpy.ndarray"
            ]
          },
          "metadata": {
            "tags": []
          },
          "execution_count": 7
        }
      ]
    },
    {
      "cell_type": "code",
      "metadata": {
        "id": "qEUoM9bXOzCX"
      },
      "source": [
        "#Extracting elements"
      ],
      "execution_count": null,
      "outputs": []
    },
    {
      "cell_type": "code",
      "metadata": {
        "id": "wgVBvelfOzCX",
        "outputId": "f7184707-9122-47c2-b70f-2d0a0ed846f8"
      },
      "source": [
        "n1"
      ],
      "execution_count": null,
      "outputs": [
        {
          "output_type": "execute_result",
          "data": {
            "text/plain": [
              "array([10, 20, 30, 40])"
            ]
          },
          "metadata": {
            "tags": []
          },
          "execution_count": 9
        }
      ]
    },
    {
      "cell_type": "code",
      "metadata": {
        "id": "8y-0M0xdOzCY",
        "outputId": "d024b98d-a59d-40be-a510-92be9e0961b7"
      },
      "source": [
        "n1[0]"
      ],
      "execution_count": null,
      "outputs": [
        {
          "output_type": "execute_result",
          "data": {
            "text/plain": [
              "10"
            ]
          },
          "metadata": {
            "tags": []
          },
          "execution_count": 10
        }
      ]
    },
    {
      "cell_type": "code",
      "metadata": {
        "id": "IoOAFJ8-OzCZ",
        "outputId": "5a066fb0-0dc4-4972-9a05-bb3f2efde41a"
      },
      "source": [
        "n1[1:3]"
      ],
      "execution_count": null,
      "outputs": [
        {
          "output_type": "execute_result",
          "data": {
            "text/plain": [
              "array([20, 30])"
            ]
          },
          "metadata": {
            "tags": []
          },
          "execution_count": 13
        }
      ]
    },
    {
      "cell_type": "code",
      "metadata": {
        "id": "nPodtRlqOzCZ",
        "outputId": "b0002b91-85e2-4536-fe5d-265a0922293b"
      },
      "source": [
        "n2"
      ],
      "execution_count": null,
      "outputs": [
        {
          "output_type": "execute_result",
          "data": {
            "text/plain": [
              "array([[10, 20, 30, 40],\n",
              "       [40, 30, 20, 10]])"
            ]
          },
          "metadata": {
            "tags": []
          },
          "execution_count": 14
        }
      ]
    },
    {
      "cell_type": "code",
      "metadata": {
        "id": "xg-zXfLROzCa",
        "outputId": "40d9b0fb-4b52-42da-fc25-b933bc1b3a60"
      },
      "source": [
        "n2[0,0]"
      ],
      "execution_count": null,
      "outputs": [
        {
          "output_type": "execute_result",
          "data": {
            "text/plain": [
              "10"
            ]
          },
          "metadata": {
            "tags": []
          },
          "execution_count": 17
        }
      ]
    },
    {
      "cell_type": "code",
      "metadata": {
        "id": "-KkJogH2OzCa",
        "outputId": "cc73cb8f-7d28-48f0-beeb-917f21e77e62"
      },
      "source": [
        "n2[0]"
      ],
      "execution_count": null,
      "outputs": [
        {
          "output_type": "execute_result",
          "data": {
            "text/plain": [
              "array([10, 20, 30, 40])"
            ]
          },
          "metadata": {
            "tags": []
          },
          "execution_count": 18
        }
      ]
    },
    {
      "cell_type": "code",
      "metadata": {
        "id": "8Q6QShSEOzCb",
        "outputId": "6ea1dc2d-f9d4-451a-d413-d945ba862a02"
      },
      "source": [
        "n2[1,3]"
      ],
      "execution_count": null,
      "outputs": [
        {
          "output_type": "execute_result",
          "data": {
            "text/plain": [
              "10"
            ]
          },
          "metadata": {
            "tags": []
          },
          "execution_count": 19
        }
      ]
    },
    {
      "cell_type": "code",
      "metadata": {
        "id": "3VJEiJkSOzCb"
      },
      "source": [
        "#np.zeros"
      ],
      "execution_count": null,
      "outputs": []
    },
    {
      "cell_type": "code",
      "metadata": {
        "id": "8AxFOpczOzCb",
        "outputId": "bf711bc4-553e-48ba-9205-563d03d113b3"
      },
      "source": [
        "import numpy as np\n",
        "n1=np.zeros((1,2))\n",
        "n1"
      ],
      "execution_count": null,
      "outputs": [
        {
          "output_type": "execute_result",
          "data": {
            "text/plain": [
              "array([[0., 0.]])"
            ]
          },
          "metadata": {
            "tags": []
          },
          "execution_count": 30
        }
      ]
    },
    {
      "cell_type": "code",
      "metadata": {
        "id": "nz7KlBjgOzCc",
        "outputId": "6dacb6b7-eda5-4256-dca4-1bd00ad7a030"
      },
      "source": [
        "import numpy as np\n",
        "n1=np.zeros((5,5))\n",
        "n1"
      ],
      "execution_count": null,
      "outputs": [
        {
          "output_type": "execute_result",
          "data": {
            "text/plain": [
              "array([[0., 0., 0., 0., 0.],\n",
              "       [0., 0., 0., 0., 0.],\n",
              "       [0., 0., 0., 0., 0.],\n",
              "       [0., 0., 0., 0., 0.],\n",
              "       [0., 0., 0., 0., 0.]])"
            ]
          },
          "metadata": {
            "tags": []
          },
          "execution_count": 31
        }
      ]
    },
    {
      "cell_type": "code",
      "metadata": {
        "id": "AaSh9mN-OzCc"
      },
      "source": [
        "#np.arange"
      ],
      "execution_count": null,
      "outputs": []
    },
    {
      "cell_type": "code",
      "metadata": {
        "id": "hdbYOHeeOzCc",
        "outputId": "aea23022-2dfc-4bbe-dc4c-90ed27329b9e"
      },
      "source": [
        "import numpy as np\n",
        "n1=np.arange(10,20)\n",
        "n1"
      ],
      "execution_count": null,
      "outputs": [
        {
          "output_type": "execute_result",
          "data": {
            "text/plain": [
              "array([10, 11, 12, 13, 14, 15, 16, 17, 18, 19])"
            ]
          },
          "metadata": {
            "tags": []
          },
          "execution_count": 34
        }
      ]
    },
    {
      "cell_type": "code",
      "metadata": {
        "id": "0bPR2rDlOzCd",
        "outputId": "c182c527-fbda-4256-fd54-fab95732b262"
      },
      "source": [
        "import numpy as np\n",
        "n1=np.arange(10,50,5)\n",
        "n1"
      ],
      "execution_count": null,
      "outputs": [
        {
          "output_type": "execute_result",
          "data": {
            "text/plain": [
              "array([10, 15, 20, 25, 30, 35, 40, 45])"
            ]
          },
          "metadata": {
            "tags": []
          },
          "execution_count": 35
        }
      ]
    },
    {
      "cell_type": "code",
      "metadata": {
        "id": "Ddx9DX4yOzCd"
      },
      "source": [
        "#np.full"
      ],
      "execution_count": null,
      "outputs": []
    },
    {
      "cell_type": "code",
      "metadata": {
        "id": "ZnLII_lUOzCd",
        "outputId": "5bc6ee16-2b78-4ad5-e91f-fecd258b267a"
      },
      "source": [
        "import numpy as np\n",
        "n1=np.full((2,2),10)\n",
        "n1"
      ],
      "execution_count": null,
      "outputs": [
        {
          "output_type": "execute_result",
          "data": {
            "text/plain": [
              "array([[10, 10],\n",
              "       [10, 10]])"
            ]
          },
          "metadata": {
            "tags": []
          },
          "execution_count": 38
        }
      ]
    },
    {
      "cell_type": "code",
      "metadata": {
        "id": "7BEZWpAQOzCd"
      },
      "source": [
        "#np.randit"
      ],
      "execution_count": null,
      "outputs": []
    },
    {
      "cell_type": "code",
      "metadata": {
        "id": "fB6RFJIEOzCe",
        "outputId": "0fe58153-ee26-4b7e-fde0-557596fe5fcc"
      },
      "source": [
        "import numpy as np\n",
        "n1=np.random.randint(1,100,5)\n",
        "n1"
      ],
      "execution_count": null,
      "outputs": [
        {
          "output_type": "execute_result",
          "data": {
            "text/plain": [
              "array([80, 75, 49, 71, 49])"
            ]
          },
          "metadata": {
            "tags": []
          },
          "execution_count": 1
        }
      ]
    },
    {
      "cell_type": "code",
      "metadata": {
        "id": "9TcC19NMOzCe",
        "outputId": "acec4638-5733-43e9-989a-014c2e78e763"
      },
      "source": [
        "n1.shape"
      ],
      "execution_count": null,
      "outputs": [
        {
          "output_type": "execute_result",
          "data": {
            "text/plain": [
              "(5,)"
            ]
          },
          "metadata": {
            "tags": []
          },
          "execution_count": 3
        }
      ]
    },
    {
      "cell_type": "code",
      "metadata": {
        "id": "Uk6fL5MpOzCe",
        "outputId": "a9d07d4b-3f35-40c1-a1ec-bf655c31f6e5"
      },
      "source": [
        "import numpy as np\n",
        "n1=np.array([[1,2,3],[4,5,6]])\n",
        "n1.shape"
      ],
      "execution_count": null,
      "outputs": [
        {
          "output_type": "execute_result",
          "data": {
            "text/plain": [
              "(2, 3)"
            ]
          },
          "metadata": {
            "tags": []
          },
          "execution_count": 4
        }
      ]
    },
    {
      "cell_type": "code",
      "metadata": {
        "id": "-lliHpwAOzCe"
      },
      "source": [
        "#NumPy Shape"
      ],
      "execution_count": null,
      "outputs": []
    },
    {
      "cell_type": "code",
      "metadata": {
        "id": "KPLjub5yOzCe",
        "outputId": "c22998f6-8b9b-4933-c5b5-3c087bf59751"
      },
      "source": [
        "n1.shape = (3,2)\n",
        "n1.shape"
      ],
      "execution_count": null,
      "outputs": [
        {
          "output_type": "execute_result",
          "data": {
            "text/plain": [
              "(3, 2)"
            ]
          },
          "metadata": {
            "tags": []
          },
          "execution_count": 5
        }
      ]
    },
    {
      "cell_type": "code",
      "metadata": {
        "id": "PRU7AglSOzCf"
      },
      "source": [
        "#Numpy Sum"
      ],
      "execution_count": null,
      "outputs": []
    },
    {
      "cell_type": "code",
      "metadata": {
        "id": "yfm8gcXKOzCf",
        "outputId": "d521a356-fd68-4cab-c31e-7229757dbdf2"
      },
      "source": [
        "import numpy as np\n",
        "n1=np.array([10,20])\n",
        "n2=np.array([30,40])\n",
        "\n",
        "np.sum([n1,n2])"
      ],
      "execution_count": null,
      "outputs": [
        {
          "output_type": "execute_result",
          "data": {
            "text/plain": [
              "100"
            ]
          },
          "metadata": {
            "tags": []
          },
          "execution_count": 13
        }
      ]
    },
    {
      "cell_type": "code",
      "metadata": {
        "id": "Rut6rRR2OzCg",
        "outputId": "d38956bb-4313-419e-fac8-ed5de1948980"
      },
      "source": [
        "np.sum([n1,n2],axis=0)"
      ],
      "execution_count": null,
      "outputs": [
        {
          "output_type": "execute_result",
          "data": {
            "text/plain": [
              "array([40, 60])"
            ]
          },
          "metadata": {
            "tags": []
          },
          "execution_count": 14
        }
      ]
    },
    {
      "cell_type": "code",
      "metadata": {
        "id": "qqApkp1ZOzCh",
        "outputId": "e41dcb6d-1216-4368-f6fd-0958f067abaa"
      },
      "source": [
        "np.sum([n1,n2],axis=1)"
      ],
      "execution_count": null,
      "outputs": [
        {
          "output_type": "execute_result",
          "data": {
            "text/plain": [
              "array([30, 70])"
            ]
          },
          "metadata": {
            "tags": []
          },
          "execution_count": 15
        }
      ]
    },
    {
      "cell_type": "code",
      "metadata": {
        "id": "YSNVHW5fOzCi"
      },
      "source": [
        "#NumPy comparison"
      ],
      "execution_count": null,
      "outputs": []
    },
    {
      "cell_type": "code",
      "metadata": {
        "id": "rFilOtUiOzCi",
        "outputId": "f20398f4-71c3-4162-fed7-8f4ac3420557"
      },
      "source": [
        "import numpy as np\n",
        "n1=np.array([10,20,30])\n",
        "n2=np.array([10,30,20])\n",
        "\n",
        "np.equal(n1,n2)"
      ],
      "execution_count": null,
      "outputs": [
        {
          "output_type": "execute_result",
          "data": {
            "text/plain": [
              "array([ True, False, False])"
            ]
          },
          "metadata": {
            "tags": []
          },
          "execution_count": 18
        }
      ]
    },
    {
      "cell_type": "code",
      "metadata": {
        "id": "O9uqueq1OzCj",
        "outputId": "3675a0c1-b019-4eb6-cddb-2195bacffb05"
      },
      "source": [
        "import numpy as np\n",
        "n1=np.array([10,20,30])\n",
        "n2=np.array([10,30,20])\n",
        "\n",
        "np.array_equal(n1,n2)"
      ],
      "execution_count": null,
      "outputs": [
        {
          "output_type": "execute_result",
          "data": {
            "text/plain": [
              "False"
            ]
          },
          "metadata": {
            "tags": []
          },
          "execution_count": 19
        }
      ]
    },
    {
      "cell_type": "code",
      "metadata": {
        "id": "XjhITK92OzCj"
      },
      "source": [
        "#Joining Arrays"
      ],
      "execution_count": null,
      "outputs": []
    },
    {
      "cell_type": "code",
      "metadata": {
        "id": "Mh_NxVkROzCj",
        "outputId": "cb950673-ff5d-4ee8-a7f7-28e8cf503bc9"
      },
      "source": [
        "import numpy as np\n",
        "n1=np.array([10,20,30])\n",
        "n2=np.array([40,50,60])\n",
        "\n",
        "np.vstack((n1,n2))"
      ],
      "execution_count": null,
      "outputs": [
        {
          "output_type": "execute_result",
          "data": {
            "text/plain": [
              "array([[10, 20, 30],\n",
              "       [40, 50, 60]])"
            ]
          },
          "metadata": {
            "tags": []
          },
          "execution_count": 32
        }
      ]
    },
    {
      "cell_type": "code",
      "metadata": {
        "id": "xLNWEUpeOzCj",
        "outputId": "3d8f90f6-4343-4dc4-8a25-155a52b4dac1"
      },
      "source": [
        "import numpy as np\n",
        "n1=np.array([10,20,30])\n",
        "n2=np.array([40,50,60])\n",
        "\n",
        "np.hstack((n1,n2))"
      ],
      "execution_count": null,
      "outputs": [
        {
          "output_type": "execute_result",
          "data": {
            "text/plain": [
              "array([10, 20, 30, 40, 50, 60])"
            ]
          },
          "metadata": {
            "tags": []
          },
          "execution_count": 33
        }
      ]
    },
    {
      "cell_type": "code",
      "metadata": {
        "id": "3UMw_acIOzCj",
        "outputId": "722fc584-cc52-4e62-fdc0-914c434716c5"
      },
      "source": [
        "import numpy as np\n",
        "n1=np.array([10,20,30])\n",
        "n2=np.array([40,50,60])\n",
        "\n",
        "np.column_stack((n1,n2))"
      ],
      "execution_count": null,
      "outputs": [
        {
          "output_type": "execute_result",
          "data": {
            "text/plain": [
              "array([[10, 40],\n",
              "       [20, 50],\n",
              "       [30, 60]])"
            ]
          },
          "metadata": {
            "tags": []
          },
          "execution_count": 34
        }
      ]
    },
    {
      "cell_type": "code",
      "metadata": {
        "id": "B6666EqZOzCk",
        "outputId": "e4024976-a5ab-4db1-d745-f793ba4c293c"
      },
      "source": [
        "import numpy as np\n",
        "n1=np.array([10,20,30])\n",
        "n1=n1/2\n",
        "n1"
      ],
      "execution_count": null,
      "outputs": [
        {
          "output_type": "execute_result",
          "data": {
            "text/plain": [
              "array([ 5., 10., 15.])"
            ]
          },
          "metadata": {
            "tags": []
          },
          "execution_count": 7
        }
      ]
    },
    {
      "cell_type": "code",
      "metadata": {
        "id": "x7Xzn2-SOzCk",
        "outputId": "88975a31-aefa-4789-a0bf-29a26daa5cd1"
      },
      "source": [
        "n1=n1+1\n",
        "n1"
      ],
      "execution_count": null,
      "outputs": [
        {
          "output_type": "execute_result",
          "data": {
            "text/plain": [
              "array([11, 21, 31])"
            ]
          },
          "metadata": {
            "tags": []
          },
          "execution_count": 3
        }
      ]
    },
    {
      "cell_type": "code",
      "metadata": {
        "id": "7yhEiEj6OzCk"
      },
      "source": [
        "import numpy as np\n",
        "n1=np.array([10,20,30,40,50,60])\n",
        "n2=np.array([50,60,70,80,90])"
      ],
      "execution_count": null,
      "outputs": []
    },
    {
      "cell_type": "code",
      "metadata": {
        "id": "dx6dkQlROzCk",
        "outputId": "20eb2646-abca-4cfa-acb4-8061ed6f35bb"
      },
      "source": [
        "np.intersect1d(n1,n2)"
      ],
      "execution_count": null,
      "outputs": [
        {
          "output_type": "execute_result",
          "data": {
            "text/plain": [
              "array([50, 60])"
            ]
          },
          "metadata": {
            "tags": []
          },
          "execution_count": 22
        }
      ]
    },
    {
      "cell_type": "code",
      "metadata": {
        "id": "I0WICBBiOzCk",
        "outputId": "8af8c962-3f59-4bd4-aa05-3279f8900d8b"
      },
      "source": [
        "np.setdiff1d(n1,n2)"
      ],
      "execution_count": null,
      "outputs": [
        {
          "output_type": "execute_result",
          "data": {
            "text/plain": [
              "array([10, 20, 30, 40])"
            ]
          },
          "metadata": {
            "tags": []
          },
          "execution_count": 23
        }
      ]
    },
    {
      "cell_type": "code",
      "metadata": {
        "id": "apOPQhdlOzCl"
      },
      "source": [
        "#numpy math functions"
      ],
      "execution_count": null,
      "outputs": []
    },
    {
      "cell_type": "code",
      "metadata": {
        "id": "dF9T9t5cOzCl",
        "outputId": "1b081c93-f074-45f5-ef75-2214bfbfe2f2"
      },
      "source": [
        "import numpy as np\n",
        "n1=np.array([1,5,3,100,4,48])\n",
        "np.std(n1)"
      ],
      "execution_count": null,
      "outputs": [
        {
          "output_type": "execute_result",
          "data": {
            "text/plain": [
              "36.59424666377065"
            ]
          },
          "metadata": {
            "tags": []
          },
          "execution_count": 17
        }
      ]
    },
    {
      "cell_type": "code",
      "metadata": {
        "id": "xbEHdu_0OzCl"
      },
      "source": [
        ""
      ],
      "execution_count": null,
      "outputs": []
    }
  ]
}